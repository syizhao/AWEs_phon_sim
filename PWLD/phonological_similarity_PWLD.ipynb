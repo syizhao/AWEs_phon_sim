{
 "cells": [
  {
   "cell_type": "code",
   "execution_count": 1,
   "metadata": {},
   "outputs": [],
   "source": [
    "import pickle\n",
    "import pandas as pd\n",
    "import numpy as np\n",
    "from scipy.spatial import distance\n",
    "import scipy.stats as stats\n",
    "import csv"
   ]
  },
  {
   "cell_type": "code",
   "execution_count": 2,
   "metadata": {},
   "outputs": [],
   "source": [
    "from collections import defaultdict, Counter"
   ]
  },
  {
   "cell_type": "code",
   "execution_count": 3,
   "metadata": {},
   "outputs": [],
   "source": [
    "# instantiate a dict phone --> feature vector\n",
    "with open('data/phoneme_vectors/feature_dict.p', \"rb\") as input_file:\n",
    "    phone2vec = pickle.load(input_file)"
   ]
  },
  {
   "cell_type": "code",
   "execution_count": 4,
   "metadata": {},
   "outputs": [],
   "source": [
    "word2ipa = {}\n",
    "\n",
    "with open('data/words_ipa/de.tsv') as csv_file:\n",
    "    \n",
    "    csv_reader = csv.DictReader(csv_file, delimiter='\\t')#(csv_file, delimiter='\\t', )\n",
    "    \n",
    "    \n",
    "    #print(csv_reader)\n",
    "    \n",
    "    for row in csv_reader:\n",
    "        word2ipa[row[\"Word\"]] =  row[\"IPA transcription\"]\n",
    "        "
   ]
  },
  {
   "cell_type": "code",
   "execution_count": 5,
   "metadata": {},
   "outputs": [
    {
     "data": {
      "text/plain": [
       "'l øː z ʊ ŋ'"
      ]
     },
     "execution_count": 5,
     "metadata": {},
     "output_type": "execute_result"
    }
   ],
   "source": [
    "word2ipa['Lösung']"
   ]
  },
  {
   "cell_type": "code",
   "execution_count": 6,
   "metadata": {},
   "outputs": [],
   "source": [
    "# phoneme set\n",
    "PHONEME_SET = set([ipa  for w, ipa in set(word2ipa.items()) for ipa in ipa.split() ])"
   ]
  },
  {
   "cell_type": "code",
   "execution_count": 7,
   "metadata": {},
   "outputs": [
    {
     "data": {
      "text/plain": [
       "{'a',\n",
       " 'aː',\n",
       " 'b',\n",
       " 'd',\n",
       " 'eː',\n",
       " 'f',\n",
       " 'h',\n",
       " 'i',\n",
       " 'iː',\n",
       " 'j',\n",
       " 'k',\n",
       " 'l',\n",
       " 'm',\n",
       " 'n',\n",
       " 'oː',\n",
       " 'p',\n",
       " 'r',\n",
       " 's',\n",
       " 't',\n",
       " 'uː',\n",
       " 'v',\n",
       " 'x',\n",
       " 'yː',\n",
       " 'z',\n",
       " 'ç',\n",
       " 'øː',\n",
       " 'ŋ',\n",
       " 'œ',\n",
       " 'ɐ',\n",
       " 'ɔ',\n",
       " 'ə',\n",
       " 'ɛ',\n",
       " 'ɛː',\n",
       " 'ɡ',\n",
       " 'ɪ',\n",
       " 'ʀ',\n",
       " 'ʃ',\n",
       " 'ʊ',\n",
       " 'ʏ',\n",
       " 'ʒ'}"
      ]
     },
     "execution_count": 7,
     "metadata": {},
     "output_type": "execute_result"
    }
   ],
   "source": [
    "PHONEME_SET"
   ]
  },
  {
   "cell_type": "code",
   "execution_count": 8,
   "metadata": {},
   "outputs": [],
   "source": [
    "phone2dist = defaultdict(lambda: defaultdict(float))\n",
    "\n",
    "for p1 in PHONEME_SET:\n",
    "    for p2 in PHONEME_SET:\n",
    "        \n",
    "        dist = distance.hamming(phone2vec[p1], phone2vec[p2])#**(1/2)\n",
    "\n",
    "        phone2dist[p1][p2] = dist"
   ]
  },
  {
   "cell_type": "code",
   "execution_count": 9,
   "metadata": {},
   "outputs": [
    {
     "data": {
      "text/plain": [
       "(0.02631578947368421, 0.02631578947368421, 0.2631578947368421, 0.5)"
      ]
     },
     "execution_count": 9,
     "metadata": {},
     "output_type": "execute_result"
    }
   ],
   "source": [
    "phone2dist['z']['s'], phone2dist['p']['b'], phone2dist['p']['z'], phone2dist['p']['ʊ'],  "
   ]
  },
  {
   "cell_type": "code",
   "execution_count": 10,
   "metadata": {},
   "outputs": [],
   "source": [
    "# String-based Levenstein Distance (PWLD)\n",
    "def LD(s, t):\n",
    "        ''' From Wikipedia article; Iterative with two matrix rows. '''\n",
    "        if s == t: return 0\n",
    "        elif len(s) == 0: return len(t)\n",
    "        elif len(t) == 0: return len(s)\n",
    "        v0 = [None] * (len(t) + 1)\n",
    "        v1 = [None] * (len(t) + 1)\n",
    "        for i in range(len(v0)):\n",
    "            v0[i] = i\n",
    "        for i in range(len(s)):\n",
    "            v1[0] = i + 1\n",
    "            for j in range(len(t)):\n",
    "                cost = 0 if s[i] == t[j] else 1\n",
    "                v1[j + 1] = min(v1[j] + 1, v0[j + 1] + 1, v0[j] + cost)\n",
    "            for j in range(len(v0)):\n",
    "                v0[j] = v1[j]\n",
    "                \n",
    "        return v1[len(t)]"
   ]
  },
  {
   "cell_type": "code",
   "execution_count": 100,
   "metadata": {},
   "outputs": [],
   "source": [
    "# Phonologically-Weighted Levenstein Distance (PWLD)\n",
    "\n",
    "def PWLD(s, t):\n",
    "        ''' From Wikipedia article; Iterative with two matrix rows. '''\n",
    "        if s == t: return 0\n",
    "        elif len(s) == 0: return len(t)\n",
    "        elif len(t) == 0: return len(s)\n",
    "        v0 = [None] * (len(t) + 1)\n",
    "        v1 = [None] * (len(t) + 1)\n",
    "        for i in range(len(v0)):\n",
    "            v0[i] = i\n",
    "        for i in range(len(s)):\n",
    "            v1[0] = i + 0.5\n",
    "            for j in range(len(t)):\n",
    "                cost = 0 if s[i] == t[j] else phone2dist[s[i]][t[j]]\n",
    "                v1[j + 1] = min(v1[j] + 0.5, v0[j + 1] + 0.5, v0[j] + cost)\n",
    "            for j in range(len(v0)):\n",
    "                \n",
    "                \n",
    "                v0[j] = v1[j]\n",
    "                \n",
    "        return v1[len(t)]"
   ]
  },
  {
   "cell_type": "code",
   "execution_count": 101,
   "metadata": {},
   "outputs": [
    {
     "name": "stdout",
     "output_type": "stream",
     "text": [
      "sicher sicher 0 0\n",
      "sicher Becher 0.2631578947368421 2\n",
      "sicher Fischer 0.3684210526315789 2\n",
      "sicher Lichter 0.631578947368421 2\n",
      "sicher sitzt 1.3421052631578947 3\n",
      "sicher sitzen 1.3421052631578947 4\n",
      "sicher tzt 1.3947368421052633 4\n",
      "sicher cher 1.236842105263158 2\n",
      "sicher t 1.6052631578947367 4\n",
      "sicher er 1.6842105263157894 3\n"
     ]
    }
   ],
   "source": [
    "word2ipa = {}\n",
    "\n",
    "word2ipa['sicher'] = 'z ɪ ç ɐ'.split()\n",
    "word2ipa['Becher'] = 'b ɛ ç ɐ'.split()\n",
    "#word2ipa['Becher'] = 'b ɛ ç ɛ'.split()\n",
    "word2ipa['Fischer'] = 'f ɪ ʃ ɐ'.split()\n",
    "word2ipa['Lichter'] = 'l ɪ ç t ɐ'.split()\n",
    "word2ipa['sitzt'] = 'z ɪ t s t'.split()\n",
    "word2ipa['sitzen'] = 'z ɪ t s ə n'.split()\n",
    "word2ipa['tzt'] = 't s t'.split()\n",
    "word2ipa['cher'] = 'ç ɐ'.split()\n",
    "word2ipa['t'] = 't'.split()\n",
    "word2ipa['er'] = 'ɐ'.split()\n",
    "\n",
    "for w in word2ipa.keys():\n",
    "    print('sicher', w, PWLD(word2ipa['sicher'], word2ipa[w]), LD(word2ipa['sicher'], word2ipa[w]))"
   ]
  },
  {
   "cell_type": "code",
   "execution_count": 90,
   "metadata": {},
   "outputs": [
    {
     "data": {
      "text/plain": [
       "0.7947194142390263"
      ]
     },
     "execution_count": 90,
     "metadata": {},
     "output_type": "execute_result"
    }
   ],
   "source": [
    " PWLD(word2ipa['tzt'], word2ipa['cher'])"
   ]
  },
  {
   "cell_type": "code",
   "execution_count": 92,
   "metadata": {},
   "outputs": [
    {
     "data": {
      "text/plain": [
       "0.7947194142390263"
      ]
     },
     "execution_count": 92,
     "metadata": {},
     "output_type": "execute_result"
    }
   ],
   "source": [
    " PWLD(word2ipa['t'], word2ipa['er'])"
   ]
  },
  {
   "cell_type": "code",
   "execution_count": 93,
   "metadata": {},
   "outputs": [
    {
     "data": {
      "text/plain": [
       "0.631578947368421"
      ]
     },
     "execution_count": 93,
     "metadata": {},
     "output_type": "execute_result"
    }
   ],
   "source": [
    "phone2dist['t']['ɐ'] "
   ]
  },
  {
   "cell_type": "code",
   "execution_count": 96,
   "metadata": {},
   "outputs": [
    {
     "data": {
      "text/plain": [
       "0.0"
      ]
     },
     "execution_count": 96,
     "metadata": {},
     "output_type": "execute_result"
    }
   ],
   "source": [
    "phone2dist['ts']['ç']"
   ]
  },
  {
   "cell_type": "code",
   "execution_count": 97,
   "metadata": {},
   "outputs": [
    {
     "data": {
      "text/plain": [
       "dict_keys(['yː', 's', 'ɛ', 'd', 'ŋ', 'uː', 'f', 'ɛː', 'b', 'eː', 'r', 'ʃ', 'a', 'iː', 'ɐ', 'h', 'ʀ', 'oː', 'œ', 'ɡ', 'm', 'z', 'v', 'x', 'ʏ', 'ə', 'ɪ', 'aː', 'k', 'ç', 'øː', 'ʊ', 'n', 'ɔ', 'i', 't', 'ʒ', 'j', 'l', 'p', 'ts'])"
      ]
     },
     "execution_count": 97,
     "metadata": {},
     "output_type": "execute_result"
    }
   ],
   "source": [
    "phone2dist.keys()"
   ]
  },
  {
   "cell_type": "code",
   "execution_count": 72,
   "metadata": {},
   "outputs": [
    {
     "data": {
      "text/plain": [
       "['z', 'ɪ', 't', 's', 't']"
      ]
     },
     "execution_count": 72,
     "metadata": {},
     "output_type": "execute_result"
    }
   ],
   "source": [
    "word2ipa['sitzt']"
   ]
  },
  {
   "cell_type": "code",
   "execution_count": 12,
   "metadata": {},
   "outputs": [
    {
     "data": {
      "text/plain": [
       "0.15789473684210525"
      ]
     },
     "execution_count": 12,
     "metadata": {},
     "output_type": "execute_result"
    }
   ],
   "source": [
    "PWLD('k ɪ ʀ ç ə'.split(), 'k ɪ ʀ ʃ ə'.split())"
   ]
  },
  {
   "cell_type": "code",
   "execution_count": 13,
   "metadata": {},
   "outputs": [
    {
     "data": {
      "text/plain": [
       "1"
      ]
     },
     "execution_count": 13,
     "metadata": {},
     "output_type": "execute_result"
    }
   ],
   "source": [
    "LD('k ɪ ʀ ç ə'.split(), 'k ɪ ʀ ʃ ə'.split())"
   ]
  },
  {
   "cell_type": "code",
   "execution_count": 14,
   "metadata": {},
   "outputs": [
    {
     "data": {
      "text/plain": [
       "0"
      ]
     },
     "execution_count": 14,
     "metadata": {},
     "output_type": "execute_result"
    }
   ],
   "source": [
    "PWLD(word2ipa['Lösung'].split(), word2ipa['Lösung'].split())"
   ]
  },
  {
   "cell_type": "code",
   "execution_count": 15,
   "metadata": {},
   "outputs": [
    {
     "data": {
      "text/plain": [
       "1.2105263157894737"
      ]
     },
     "execution_count": 15,
     "metadata": {},
     "output_type": "execute_result"
    }
   ],
   "source": [
    "PWLD(word2ipa['Lösung'].split(), word2ipa['schließen'].split())"
   ]
  },
  {
   "cell_type": "code",
   "execution_count": 16,
   "metadata": {},
   "outputs": [
    {
     "data": {
      "text/plain": [
       "0.21052631578947367"
      ]
     },
     "execution_count": 16,
     "metadata": {},
     "output_type": "execute_result"
    }
   ],
   "source": [
    "PWLD(word2ipa['schlossen'].split(), word2ipa['schließen'].split())"
   ]
  },
  {
   "cell_type": "code",
   "execution_count": 17,
   "metadata": {},
   "outputs": [
    {
     "data": {
      "text/plain": [
       "'a p ʃ l iː s ə n'"
      ]
     },
     "execution_count": 17,
     "metadata": {},
     "output_type": "execute_result"
    }
   ],
   "source": [
    "word2ipa['abschließen']"
   ]
  },
  {
   "cell_type": "code",
   "execution_count": 18,
   "metadata": {},
   "outputs": [
    {
     "data": {
      "text/plain": [
       "'ʃ l iː s ə n'"
      ]
     },
     "execution_count": 18,
     "metadata": {},
     "output_type": "execute_result"
    }
   ],
   "source": [
    "word2ipa['schließen']"
   ]
  },
  {
   "cell_type": "code",
   "execution_count": null,
   "metadata": {},
   "outputs": [],
   "source": []
  }
 ],
 "metadata": {
  "kernelspec": {
   "display_name": "Python 3",
   "language": "python",
   "name": "python3"
  },
  "language_info": {
   "codemirror_mode": {
    "name": "ipython",
    "version": 3
   },
   "file_extension": ".py",
   "mimetype": "text/x-python",
   "name": "python",
   "nbconvert_exporter": "python",
   "pygments_lexer": "ipython3",
   "version": "3.7.6"
  }
 },
 "nbformat": 4,
 "nbformat_minor": 4
}
